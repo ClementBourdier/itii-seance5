{
  "nbformat": 4,
  "nbformat_minor": 0,
  "metadata": {
    "kernelspec": {
      "display_name": "Python 3",
      "language": "python",
      "name": "python3"
    },
    "language_info": {
      "codemirror_mode": {
        "name": "ipython",
        "version": 3
      },
      "file_extension": ".py",
      "mimetype": "text/x-python",
      "name": "python",
      "nbconvert_exporter": "python",
      "pygments_lexer": "ipython3",
      "version": "3.7.6"
    },
    "colab": {
      "name": "seance5.ipynb",
      "provenance": [],
      "collapsed_sections": []
    }
  },
  "cells": [
    {
      "cell_type": "markdown",
      "metadata": {
        "id": "D4jo9j-l9VKF"
      },
      "source": [
        "Ex1:\n",
        "    \n",
        "1. Ecrire une fonction qui prend en entrée une fonction f et des réels a et h et donne en sortie le taux de variation (ou d'accroissement) de la fonction f entre le point d'abscisse a+h et a.\n",
        "2. Tester avec f(x)=3x^3+1x^2-5"
      ]
    },
    {
      "cell_type": "code",
      "metadata": {
        "id": "kPQZsQiP9VKF",
        "outputId": "5c3fdbc0-9445-4403-d018-864f9e994ccf",
        "colab": {
          "base_uri": "https://localhost:8080/"
        }
      },
      "source": [
        "def tauxVariation(f, a, h):\n",
        "  res = (f(a+h)-f(a))/h\n",
        "  return res\n",
        "\n",
        "def f(x):\n",
        "  return 3*x**3 + 1*x**2 - 5\n",
        "\n",
        "tauxVariation(f, 10, 3)"
      ],
      "execution_count": 4,
      "outputs": [
        {
          "output_type": "execute_result",
          "data": {
            "text/plain": [
              "1220.0"
            ]
          },
          "metadata": {
            "tags": []
          },
          "execution_count": 4
        }
      ]
    },
    {
      "cell_type": "markdown",
      "metadata": {
        "id": "L0Eg3viw9VKI"
      },
      "source": [
        "Ex2:\n",
        "1. Ecrire une fonction qui calcule la liste des coefficients directeurs pour une fonction f définit sur I=[a;b] avec un pas \"p\"\n",
        "2. Tester avec f(x)=(1+x)/(x-4) définit sur I=[0,1] avec un pas de 0.01"
      ]
    },
    {
      "cell_type": "code",
      "metadata": {
        "id": "IEd3ztWp9VKI",
        "outputId": "690c8396-fd35-46bb-921a-1877156948b7",
        "colab": {
          "base_uri": "https://localhost:8080/"
        }
      },
      "source": [
        "def coef(f, a, b, p):\n",
        "  res = []\n",
        "  x = a \n",
        "  while x < b:\n",
        "    res.append(f(x))\n",
        "    x += p\n",
        "  return res\n",
        "\n",
        "def f(x):\n",
        "  return (1+x)/(x-4)\n",
        "\n",
        "coef(f, 0, 0.2, 0.01)"
      ],
      "execution_count": 7,
      "outputs": [
        {
          "output_type": "execute_result",
          "data": {
            "text/plain": [
              "[-0.25,\n",
              " -0.2531328320802005,\n",
              " -0.2562814070351759,\n",
              " -0.2594458438287154,\n",
              " -0.26262626262626265,\n",
              " -0.26582278481012656,\n",
              " -0.2690355329949239,\n",
              " -0.272264631043257,\n",
              " -0.2755102040816327,\n",
              " -0.27877237851662406,\n",
              " -0.2820512820512821,\n",
              " -0.2853470437017994,\n",
              " -0.28865979381443296,\n",
              " -0.2919896640826873,\n",
              " -0.29533678756476683,\n",
              " -0.2987012987012987,\n",
              " -0.3020833333333333,\n",
              " -0.3054830287206266,\n",
              " -0.3089005235602094,\n",
              " -0.3123359580052493]"
            ]
          },
          "metadata": {
            "tags": []
          },
          "execution_count": 7
        }
      ]
    },
    {
      "cell_type": "markdown",
      "metadata": {
        "id": "klZNVbQK9VKK"
      },
      "source": [
        "Ex3:\n",
        "on considère une suite U définie par Un+1=Un+n+1 et de premier terme U0. Ecrire une fonction qui prend en entrée les valeurs de n et U0 et affiche la valeur de Un.\n",
        "1. De facon iterative\n",
        "2. Par recurence"
      ]
    },
    {
      "cell_type": "code",
      "metadata": {
        "id": "MciWCS8D9VKL",
        "outputId": "88ca3294-7af0-4d95-972a-52f23669f345",
        "colab": {
          "base_uri": "https://localhost:8080/"
        }
      },
      "source": [
        "def u(n,u0):\n",
        "  if(n==0):\n",
        "    return u0\n",
        "  else:\n",
        "    return u(n-1,u0) + n + 1\n",
        "\n",
        "def u_2(n,U0):\n",
        "  res=0\n",
        "  while(n>0):\n",
        "    res+=+n+1\n",
        "    n-=1\n",
        "  res+=U0\n",
        "  return res\n",
        "\n",
        "u(10,2)\n",
        "u_2(10,2)"
      ],
      "execution_count": 23,
      "outputs": [
        {
          "output_type": "execute_result",
          "data": {
            "text/plain": [
              "67"
            ]
          },
          "metadata": {
            "tags": []
          },
          "execution_count": 23
        }
      ]
    },
    {
      "cell_type": "markdown",
      "metadata": {
        "id": "eE74iO6u9VKN"
      },
      "source": [
        "Ex4:\n",
        "On pose Tn=n^2−(n−1)^2 ainsi que Sn=T1+T2+T3+...+Tn.\n",
        "1. Etant donné n, afficher la valeur de Sn."
      ]
    },
    {
      "cell_type": "code",
      "metadata": {
        "id": "qzsaqSOx9VKN",
        "outputId": "77295418-ac19-46bf-abdf-bd2aed293139",
        "colab": {
          "base_uri": "https://localhost:8080/"
        }
      },
      "source": [
        "def T(n):\n",
        "  return n**2-(n-1)**2\n",
        "\n",
        "def suite(n):\n",
        "  res = 0\n",
        "  x = 1\n",
        "  while x <= n:\n",
        "    res += T(x)\n",
        "    x += 1\n",
        "  return res\n",
        "\n",
        "suite(3)"
      ],
      "execution_count": 25,
      "outputs": [
        {
          "output_type": "execute_result",
          "data": {
            "text/plain": [
              "9"
            ]
          },
          "metadata": {
            "tags": []
          },
          "execution_count": 25
        }
      ]
    },
    {
      "cell_type": "markdown",
      "metadata": {
        "id": "Fqb-pxAE9VKP"
      },
      "source": [
        "Ex5:\n",
        "Soit la suite définie par Un+1=0.5.Un et de premier terme U0. Plus la valeur de n augmente, plus les valeurs de Un se rapprochent de 0.\n",
        "\n",
        "Ecrire une fonction qui permet de déterminer pour un réel positif e donné, quel est le plus petit entier n tel que la valeur de Un soit inférieure à e.\n"
      ]
    },
    {
      "cell_type": "code",
      "metadata": {
        "id": "70wjIZqv9VKP",
        "outputId": "4fb22cd4-4169-4e0c-e68c-af823802a7c6",
        "colab": {
          "base_uri": "https://localhost:8080/"
        }
      },
      "source": [
        "def Un_1(n,u0):\n",
        "  if(n==0):\n",
        "    return u0\n",
        "  else:\n",
        "    return 0.5 * Un_1(n-1,u0)\n",
        "\n",
        "def det(u0,e):\n",
        "  x = 0\n",
        "  while(Un_1(x,u0)>e):\n",
        "    x += 1\n",
        "  return x\n",
        "\n",
        "det(1, 0.25)  "
      ],
      "execution_count": 39,
      "outputs": [
        {
          "output_type": "execute_result",
          "data": {
            "text/plain": [
              "2"
            ]
          },
          "metadata": {
            "tags": []
          },
          "execution_count": 39
        }
      ]
    },
    {
      "cell_type": "markdown",
      "metadata": {
        "id": "XAHEPKP29VKR"
      },
      "source": [
        "Ex6: Constante K de Catalan : https://fr.wikipedia.org/wiki/Constante_de_Catalan\n",
        "Ecrire une fonction qui permet de retourner une valeur approchée de la constante K et en s’arrêtant dès que la valeur absolue de la différence entre deux somme successives devienne inférieure ou égale à une erreur epsilon donnée en paramètre.\n",
        "\n"
      ]
    },
    {
      "cell_type": "code",
      "metadata": {
        "id": "uIxdZhSK9VKS",
        "outputId": "3068c791-c119-4ab5-bca9-8f116bb02d31",
        "colab": {
          "base_uri": "https://localhost:8080/"
        }
      },
      "source": [
        "def somme(n):\n",
        "  if(n==0):\n",
        "    return 1\n",
        "  else:\n",
        "    return somme(n-1)+((-1)**n)/((2*n+1)**2)\n",
        "\n",
        "def catalan(e):\n",
        "  n=1\n",
        "  while abs(somme(n)-somme(n-1))>e:\n",
        "    n+=1\n",
        "  return somme(n)\n",
        "  \n",
        "catalan(0.05)"
      ],
      "execution_count": 42,
      "outputs": [
        {
          "output_type": "execute_result",
          "data": {
            "text/plain": [
              "0.9288888888888889"
            ]
          },
          "metadata": {
            "tags": []
          },
          "execution_count": 42
        }
      ]
    },
    {
      "cell_type": "markdown",
      "metadata": {
        "id": "7KAtiBx29VKU"
      },
      "source": [
        "Ex 7:\n",
        "Ecrivez une fonction permettant de calculer la limite à epsilon près de la suite définie par la relation de récurrence :\n",
        "\n",
        "U0 =2\n",
        "Un+1= Un + 2/Un  , n>0.\n",
        "\n",
        "On arrête d’itérer quand l’intervalle entre 2 termes consécutifs devient strictement inférieur à epsilon."
      ]
    },
    {
      "cell_type": "code",
      "metadata": {
        "id": "NCORgkkDJD64",
        "outputId": "46ddbc5a-9e4b-43c0-f5b8-d9760cb325b3",
        "colab": {
          "base_uri": "https://localhost:8080/"
        }
      },
      "source": [
        "def u(n):\n",
        "  if(n==0):\n",
        "    return 2\n",
        "  else:\n",
        "    return u(n-1)+(2/u(n-1))\n",
        "def lim(e):\n",
        "  n=1\n",
        "  while abs(u(n)-u(n-1))>=e:\n",
        "    n+=1\n",
        "  return u(n)\n",
        "\n",
        "lim(0.5)"
      ],
      "execution_count": 44,
      "outputs": [
        {
          "output_type": "execute_result",
          "data": {
            "text/plain": [
              "4.686941356006104"
            ]
          },
          "metadata": {
            "tags": []
          },
          "execution_count": 44
        }
      ]
    }
  ]
}